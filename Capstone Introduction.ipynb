{
    "cells": [
        {
            "metadata": {
                "collapsed": true
            },
            "cell_type": "markdown",
            "source": "# Applying Data Science in identifying the best place to setup a cafe in Ho Chi Min City "
        },
        {
            "metadata": {},
            "cell_type": "markdown",
            "source": "## Vigneshkumar Sivakumaran"
        },
        {
            "metadata": {},
            "cell_type": "markdown",
            "source": "### Business Problem:"
        },
        {
            "metadata": {},
            "cell_type": "markdown",
            "source": "If you have a chance to visit Ho Chi Minh City (HCMC), you will see that it\u2019s one of the most active cities in the world. People here love to talk, to chat everywhere. The catering services in this city are on high demand. \n\nWe need to clarify the differences between a coffee shop and a cafe. Coffee shop has no similar connotations. From personal experience in the United States, a cafe serves meals, while a coffee shop usually just sells snacks (muffins, scones, shortbread). This is not strictly the case, and both usually serve coffee. In this project, we suppose to work only on the cafe. \n\nAlthough there are already a lot of cafes in HCMC, their density between districts is not uniform. There are some districts containing too many cafe while there are less in some others. If we have some knowledge about the population density, the housing price in each district coupling with an overview of the number of cafe, we can have a better idea to set up a new business there. \n\nIf we think of it by an investor, we expect to choose a place where the population density is high but less competitors. If the housing price in that place is low, it\u2019s more attractive to us. \n"
        },
        {
            "metadata": {},
            "cell_type": "markdown",
            "source": "By using Data Science and some geometric factors about the relation between districts in HCMC, we can give good answers of following questions to the investors so that they can have a better vision about not only the cafe but also about other venues in HCMC. \n\n1.\tHow many venues in each district? Answering this question gives us a better understand- ing about the dynamic level of a district. \n2.\tHow many categories in each district? Answering this question helps us know about the diversity in business of a district. \n3.\tHow many venues in each category? This question shows the magnitude of a category in a district\n4.\tWhat are the most popular categories in each district? If investors change their mind to focus on other commercial fields instead of opening a cafe. \n5.\tHow many clusters we can use to categorize the districts based on the popularity of cafes? \n6.\tIn which districts, the average housing price is low and the number of cafes is low also? \n7.\tWhere there are many people but less cafes? \n8.\tVisualize all information on the map so that we can have a better look on what we want to find the answers\n"
        },
        {
            "metadata": {},
            "cell_type": "code",
            "source": "",
            "execution_count": null,
            "outputs": []
        }
    ],
    "metadata": {
        "kernelspec": {
            "name": "python3",
            "display_name": "Python 3.6",
            "language": "python"
        },
        "language_info": {
            "name": "python",
            "version": "3.6.9",
            "mimetype": "text/x-python",
            "codemirror_mode": {
                "name": "ipython",
                "version": 3
            },
            "pygments_lexer": "ipython3",
            "nbconvert_exporter": "python",
            "file_extension": ".py"
        }
    },
    "nbformat": 4,
    "nbformat_minor": 1
}