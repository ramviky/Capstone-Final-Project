{
    "cells": [
        {
            "metadata": {
                "collapsed": true
            },
            "cell_type": "markdown",
            "source": "# Applying Data Science in identifying the best place to setup a cafe in Ho Chi Min City"
        },
        {
            "metadata": {},
            "cell_type": "markdown",
            "source": "## Vigneshkumar Sivakumaran"
        },
        {
            "metadata": {},
            "cell_type": "markdown",
            "source": "### Data Description"
        },
        {
            "metadata": {},
            "cell_type": "markdown",
            "source": "We are referring and using the following data in this project. \n1.\tList of Ho Chi Minh City administrative units from Wikipedia. It gives us a list of all urban districts of HCMC with their area (in Km2), population (in 2015) and the density of each district (people/Km2). \n2.\tList of the coordinates (latitude, longitude) of all urban districts in HCMC. This list can be generated based on the name of each district and package geopy.geocoders.Nominatim.\n3.\tList of average housing prices per m2in HCMC. \n4.\tA .json file contains all coordinates where we use it to create a choropleth map of Housing Sales Price Index of HCMC. I create this file by myself using https://nominatim.openstreetmap.org/\n"
        },
        {
            "metadata": {},
            "cell_type": "code",
            "source": "",
            "execution_count": null,
            "outputs": []
        }
    ],
    "metadata": {
        "kernelspec": {
            "name": "python3",
            "display_name": "Python 3.6",
            "language": "python"
        },
        "language_info": {
            "name": "python",
            "version": "3.6.9",
            "mimetype": "text/x-python",
            "codemirror_mode": {
                "name": "ipython",
                "version": 3
            },
            "pygments_lexer": "ipython3",
            "nbconvert_exporter": "python",
            "file_extension": ".py"
        }
    },
    "nbformat": 4,
    "nbformat_minor": 1
}